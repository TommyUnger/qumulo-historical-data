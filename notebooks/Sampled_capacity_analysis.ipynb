{
 "cells": [
  {
   "cell_type": "code",
   "execution_count": null,
   "metadata": {
    "collapsed": true
   },
   "outputs": [],
   "source": [
    "import sqlite3\n",
    "import pandas\n",
    "import re\n",
    "import os"
   ]
  },
  {
   "cell_type": "code",
   "execution_count": null,
   "metadata": {
    "collapsed": true
   },
   "outputs": [],
   "source": [
    "# capacity by user\n",
    "cn = sqlite3.connect('../data/%s/%s-qumulo-api-data.db' % ('music', '2017-05-28'))\n",
    "df_cap = pandas.read_sql('SELECT * FROM capacity_sample', cn)\n",
    "total_count = len(df_cap)\n",
    "df_grouped = df_cap.groupby(['owner_id', 'owner_detail_id'])[['size_bytes']].count().reset_index()\n",
    "df_grouped['size_percent'] =100 * df_grouped['size_bytes'] / total_count\n",
    "df_grouped[df_grouped['size_percent']>0.1].sort_values(['size_percent'], ascending=[False]).style.format({\n",
    "    'size_percent': '{:,.2f}'.format\n",
    "})"
   ]
  },
  {
   "cell_type": "code",
   "execution_count": null,
   "metadata": {
    "collapsed": true
   },
   "outputs": [],
   "source": [
    "# capacity by path, top level\n",
    "df_cap = pandas.read_sql('SELECT * FROM capacity_sample', cn)\n",
    "df_cap['dir2'] = df_cap['path'].apply(lambda x: '/'.join(x.split('/')[:2]))\n",
    "df_cap.reset_index().groupby(['dir2'])[['size_bytes']].count().sort_values(['size_bytes'], ascending=[False])"
   ]
  }
 ],
 "metadata": {
  "kernelspec": {
   "display_name": "Python 2",
   "language": "python",
   "name": "python2"
  },
  "language_info": {
   "codemirror_mode": {
    "name": "ipython",
    "version": 2
   },
   "file_extension": ".py",
   "mimetype": "text/x-python",
   "name": "python",
   "nbconvert_exporter": "python",
   "pygments_lexer": "ipython2",
   "version": "2.7.13"
  }
 },
 "nbformat": 4,
 "nbformat_minor": 2
}
