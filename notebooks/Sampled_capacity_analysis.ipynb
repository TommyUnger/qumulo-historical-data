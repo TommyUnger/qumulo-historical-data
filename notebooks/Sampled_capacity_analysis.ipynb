{
 "cells": [
  {
   "cell_type": "code",
   "execution_count": null,
   "metadata": {
    "collapsed": true
   },
   "outputs": [],
   "source": [
    "import sqlite3\n",
    "import pandas\n",
    "import re\n",
    "import os\n",
    "from IPython.core.display import display, HTML, Javascript, display_javascript"
   ]
  },
  {
   "cell_type": "code",
   "execution_count": null,
   "metadata": {},
   "outputs": [],
   "source": [
    "display(HTML(\"<style>.container { width:98% !important; }</style>\"))"
   ]
  },
  {
   "cell_type": "code",
   "execution_count": null,
   "metadata": {},
   "outputs": [],
   "source": [
    "!ls -l ../data/*/*"
   ]
  },
  {
   "cell_type": "code",
   "execution_count": null,
   "metadata": {},
   "outputs": [],
   "source": [
    "# capacity by user\n",
    "cn = sqlite3.connect('../data/%s/%s-qumulo-api-data.db' % ('gravytrain', '2017-06-25'))\n",
    "df_cap = pandas.read_sql('SELECT * FROM capacity_sample', cn)\n",
    "total_count = len(df_cap)\n",
    "df_grouped = df_cap.groupby(['owner_id', 'owner_detail_id'])[['size_bytes']].count().reset_index()\n",
    "df_grouped['size_percent'] =100 * df_grouped['size_bytes'] / total_count\n",
    "df_grouped[df_grouped['size_percent']>0.1].sort_values(['size_percent'], ascending=[False]).style.format({\n",
    "    'size_percent': '{:,.2f}'.format\n",
    "})"
   ]
  },
  {
   "cell_type": "code",
   "execution_count": null,
   "metadata": {},
   "outputs": [],
   "source": [
    "# capacity by path, top level\n",
    "df_cap = pandas.read_sql('SELECT * FROM capacity_sample', cn)\n",
    "df_cap['dir2'] = df_cap['path'].apply(lambda x: '/'.join(x.split('/')[:2]))\n",
    "# df_cap['size_percent'] =100 * df_cap['size_bytes'] / total_count\n",
    "df_cap1 = df_cap.reset_index().groupby(['dir2'])[['size_bytes']].count().sort_values(['size_bytes'], ascending=[False]).reset_index()\n",
    "# df_cap1['size_perc'] = "
   ]
  },
  {
   "cell_type": "code",
   "execution_count": null,
   "metadata": {},
   "outputs": [],
   "source": []
  },
  {
   "cell_type": "code",
   "execution_count": null,
   "metadata": {
    "collapsed": true
   },
   "outputs": [],
   "source": []
  },
  {
   "cell_type": "code",
   "execution_count": null,
   "metadata": {},
   "outputs": [],
   "source": [
    "new_df = df_cap.pivot_table(values='size_bytes', columns='dir2', index='owner_id', aggfunc='count').fillna('')\n",
    "new_df"
   ]
  },
  {
   "cell_type": "code",
   "execution_count": null,
   "metadata": {
    "collapsed": true
   },
   "outputs": [],
   "source": []
  }
 ],
 "metadata": {
  "kernelspec": {
   "display_name": "Python 2",
   "language": "python",
   "name": "python2"
  },
  "language_info": {
   "codemirror_mode": {
    "name": "ipython",
    "version": 2
   },
   "file_extension": ".py",
   "mimetype": "text/x-python",
   "name": "python",
   "nbconvert_exporter": "python",
   "pygments_lexer": "ipython2",
   "version": "2.7.13"
  }
 },
 "nbformat": 4,
 "nbformat_minor": 2
}
